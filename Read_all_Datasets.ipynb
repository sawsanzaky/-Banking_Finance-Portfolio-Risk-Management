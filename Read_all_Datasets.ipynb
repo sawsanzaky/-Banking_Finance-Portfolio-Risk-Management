{
  "nbformat": 4,
  "nbformat_minor": 0,
  "metadata": {
    "colab": {
      "name": "Read_all_Dataset.ipynb",
      "provenance": [],
      "authorship_tag": "ABX9TyNregMBu37acuH8kyYbdAoM",
      "include_colab_link": true
    },
    "kernelspec": {
      "name": "python3",
      "display_name": "Python 3"
    },
    "language_info": {
      "name": "python"
    }
  },
  "cells": [
    {
      "cell_type": "markdown",
      "metadata": {
        "id": "view-in-github",
        "colab_type": "text"
      },
      "source": [
        "<a href=\"https://colab.research.google.com/github/sawsanzaky/Portfolio-Risk-Management/blob/main/Read_all_Datasets.ipynb\" target=\"_parent\"><img src=\"https://colab.research.google.com/assets/colab-badge.svg\" alt=\"Open In Colab\"/></a>"
      ]
    },
    {
      "cell_type": "code",
      "execution_count": 1,
      "metadata": {
        "id": "dHq01N0oRKwY"
      },
      "outputs": [],
      "source": [
        "import pandas as pd\n"
      ]
    },
    {
      "cell_type": "code",
      "source": [
        "!git clone https://github.com/sawsanzaky/Portfolio-Risk-Management"
      ],
      "metadata": {
        "colab": {
          "base_uri": "https://localhost:8080/"
        },
        "id": "RlAj_v2qRaBQ",
        "outputId": "19ce4734-b05c-4115-a684-fe2d47bb8cba"
      },
      "execution_count": 2,
      "outputs": [
        {
          "output_type": "stream",
          "name": "stdout",
          "text": [
            "Cloning into 'Portfolio-Risk-Management'...\n",
            "remote: Enumerating objects: 15, done.\u001b[K\n",
            "remote: Counting objects: 100% (15/15), done.\u001b[K\n",
            "remote: Compressing objects: 100% (13/13), done.\u001b[K\n",
            "remote: Total 15 (delta 1), reused 0 (delta 0), pack-reused 0\u001b[K\n",
            "Unpacking objects: 100% (15/15), done.\n"
          ]
        }
      ]
    },
    {
      "cell_type": "markdown",
      "source": [
        "**Read Datasets**"
      ],
      "metadata": {
        "id": "RNut3XuDRy1P"
      }
    },
    {
      "cell_type": "markdown",
      "source": [
        "**1**"
      ],
      "metadata": {
        "id": "NKQPgGAGTz8q"
      }
    },
    {
      "cell_type": "code",
      "source": [
        "All_Returns = pd.read_csv(\"/content/Portfolio-Risk-Management/All retuens (2017).csv\")\n",
        "print(All_Returns.head(2))\n",
        "All_Returns.columns"
      ],
      "metadata": {
        "colab": {
          "base_uri": "https://localhost:8080/"
        },
        "id": "AOKrMbgNRjXr",
        "outputId": "2c3bf637-f047-4cf8-8605-fab37d1ae44c"
      },
      "execution_count": 5,
      "outputs": [
        {
          "output_type": "stream",
          "name": "stdout",
          "text": [
            "         Date      AAPL      MSFT  ...        GE        FB         T\n",
            "0  2017-01-03  0.002849  0.007081  ...  0.002848  0.015732  0.011521\n",
            "1  2017-01-04 -0.001119 -0.004474  ...  0.000316  0.015660 -0.005811\n",
            "\n",
            "[2 rows x 10 columns]\n"
          ]
        },
        {
          "output_type": "execute_result",
          "data": {
            "text/plain": [
              "Index(['Date', 'AAPL', 'MSFT', 'XOM', 'JNJ', 'JPM', 'AMZN', 'GE', 'FB', 'T'], dtype='object')"
            ]
          },
          "metadata": {},
          "execution_count": 5
        }
      ]
    },
    {
      "cell_type": "markdown",
      "source": [
        "\n",
        "\n",
        "---\n",
        "\n",
        "\n",
        "\n",
        "---\n",
        "\n"
      ],
      "metadata": {
        "id": "El7oqWAvSjqO"
      }
    },
    {
      "cell_type": "markdown",
      "source": [
        "**2**"
      ],
      "metadata": {
        "id": "c-0qr0UVT4-N"
      }
    },
    {
      "cell_type": "code",
      "source": [
        "ETF_of_oil_price = pd.read_csv(\"/content/Portfolio-Risk-Management/ETF of oil prices (UFO).csv\")\n",
        "print(ETF_of_oil_price.head(2))\n",
        "ETF_of_oil_price.columns"
      ],
      "metadata": {
        "colab": {
          "base_uri": "https://localhost:8080/"
        },
        "id": "WKwy4g6NSEpf",
        "outputId": "5612be21-1ade-40b9-ad91-37c2809a7ba9"
      },
      "execution_count": 9,
      "outputs": [
        {
          "output_type": "stream",
          "name": "stdout",
          "text": [
            "         Date       USO\n",
            "0  2007-01-03 -0.042636\n",
            "1  2007-01-04 -0.040688\n"
          ]
        },
        {
          "output_type": "execute_result",
          "data": {
            "text/plain": [
              "Index(['Date', 'USO'], dtype='object')"
            ]
          },
          "metadata": {},
          "execution_count": 9
        }
      ]
    },
    {
      "cell_type": "markdown",
      "source": [
        "\n",
        "\n",
        "---\n",
        "\n",
        "\n",
        "\n",
        "---\n",
        "\n"
      ],
      "metadata": {
        "id": "_XA4FDtbSm9o"
      }
    },
    {
      "cell_type": "markdown",
      "source": [
        "**3**"
      ],
      "metadata": {
        "id": "bkYNlpsOT9sg"
      }
    },
    {
      "cell_type": "code",
      "source": [
        "Efficient_Frontier_Portfolios = pd.read_csv(\"/content/Portfolio-Risk-Management/Efficient Frontier Portfolios.csv\")\n",
        "print(Efficient_Frontier_Portfolios.head(2))\n",
        "Efficient_Frontier_Portfolios.columns"
      ],
      "metadata": {
        "colab": {
          "base_uri": "https://localhost:8080/"
        },
        "id": "RjZT62uRSiG2",
        "outputId": "48c19d10-855d-43d2-f475-5dee63fe5925"
      },
      "execution_count": 8,
      "outputs": [
        {
          "output_type": "stream",
          "name": "stdout",
          "text": [
            "   AAPL weight  MSFT weight  XOM weight  ...  T weight   Returns  Volatility\n",
            "0     0.000053     0.263110    0.007022  ...  0.010087  0.127453    0.171565\n",
            "1     0.042360     0.034922    0.079355  ...  0.008590  0.138614    0.182723\n",
            "\n",
            "[2 rows x 11 columns]\n"
          ]
        },
        {
          "output_type": "execute_result",
          "data": {
            "text/plain": [
              "Index(['AAPL weight', 'MSFT weight', 'XOM weight', 'JNJ weight', 'JPM weight',\n",
              "       'AMZN weight', 'GE weight', 'FB weight', 'T weight', 'Returns',\n",
              "       'Volatility'],\n",
              "      dtype='object')"
            ]
          },
          "metadata": {},
          "execution_count": 8
        }
      ]
    },
    {
      "cell_type": "markdown",
      "source": [
        "\n",
        "\n",
        "---\n",
        "\n",
        "\n",
        "\n",
        "---\n",
        "\n"
      ],
      "metadata": {
        "id": "_MFfFAMtTDrv"
      }
    },
    {
      "cell_type": "markdown",
      "source": [
        "**4**"
      ],
      "metadata": {
        "id": "pqypvc3jUCHV"
      }
    },
    {
      "cell_type": "code",
      "source": [
        "Fama_French_Factors = pd.read_csv(\"/content/Portfolio-Risk-Management/Fama-French Factors.csv\")\n",
        "print(Fama_French_Factors.head(2))\n",
        "Fama_French_Factors.columns"
      ],
      "metadata": {
        "colab": {
          "base_uri": "https://localhost:8080/"
        },
        "id": "9V8xZNgNS9hj",
        "outputId": "5e059d32-a83c-43bf-c4f3-5c92a05e7e00"
      },
      "execution_count": 11,
      "outputs": [
        {
          "output_type": "stream",
          "name": "stdout",
          "text": [
            "         Date  Portfolio  Market_Excess     SMB     HML     RMW     CMA   RF\n",
            "0  2013-01-03  -0.005066        -0.0014  0.0014  0.0004  0.0020  0.0023  0.0\n",
            "1  2013-01-04   0.004024         0.0055  0.0019  0.0043 -0.0037  0.0027  0.0\n"
          ]
        },
        {
          "output_type": "execute_result",
          "data": {
            "text/plain": [
              "Index(['Date', 'Portfolio', 'Market_Excess', 'SMB', 'HML', 'RMW', 'CMA', 'RF'], dtype='object')"
            ]
          },
          "metadata": {},
          "execution_count": 11
        }
      ]
    },
    {
      "cell_type": "markdown",
      "source": [
        "\n",
        "\n",
        "---\n",
        "\n",
        "\n",
        "\n",
        "---\n",
        "\n"
      ],
      "metadata": {
        "id": "-2g_LUv3TYJL"
      }
    },
    {
      "cell_type": "markdown",
      "source": [
        "**5**"
      ],
      "metadata": {
        "id": "7x5kuDbpUGVb"
      }
    },
    {
      "cell_type": "code",
      "source": [
        "Microsoft_Prices = pd.read_csv(\"/content/Portfolio-Risk-Management/Microsoft Prices.csv\")\n",
        "print(Microsoft_Prices.head(2))\n",
        "Microsoft_Prices.columns"
      ],
      "metadata": {
        "colab": {
          "base_uri": "https://localhost:8080/"
        },
        "id": "Y8h01iJyTZIt",
        "outputId": "ad764a1d-365f-4ff5-a79a-89de1b5d4511"
      },
      "execution_count": 12,
      "outputs": [
        {
          "output_type": "stream",
          "name": "stdout",
          "text": [
            "         Date    Open    High     Low     Close    Volume   Adjusted\n",
            "0  2000-01-03  88.777  89.722  84.712  58.28125  53228400  38.527809\n",
            "1  2000-01-04  85.893  88.588  84.901  56.31250  54119000  37.226345\n"
          ]
        },
        {
          "output_type": "execute_result",
          "data": {
            "text/plain": [
              "Index(['Date', 'Open', 'High', 'Low', 'Close', 'Volume', 'Adjusted'], dtype='object')"
            ]
          },
          "metadata": {},
          "execution_count": 12
        }
      ]
    },
    {
      "cell_type": "markdown",
      "source": [
        "\n",
        "\n",
        "---\n",
        "\n",
        "\n",
        "\n",
        "---\n",
        "\n"
      ],
      "metadata": {
        "id": "7EGN-hAqTdX0"
      }
    }
  ]
}
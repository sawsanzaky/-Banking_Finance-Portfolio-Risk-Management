{
  "nbformat": 4,
  "nbformat_minor": 0,
  "metadata": {
    "colab": {
      "name": "Calculating portfolio returns.ipynb",
      "provenance": [],
      "authorship_tag": "ABX9TyPhQp4pAgJ2qXmoRiAwvPYP",
      "include_colab_link": true
    },
    "kernelspec": {
      "name": "python3",
      "display_name": "Python 3"
    },
    "language_info": {
      "name": "python"
    }
  },
  "cells": [
    {
      "cell_type": "markdown",
      "metadata": {
        "id": "view-in-github",
        "colab_type": "text"
      },
      "source": [
        "<a href=\"https://colab.research.google.com/github/sawsanzaky/Portfolio-Risk-Management/blob/main/Calculating_portfolio_returns.ipynb\" target=\"_parent\"><img src=\"https://colab.research.google.com/assets/colab-badge.svg\" alt=\"Open In Colab\"/></a>"
      ]
    },
    {
      "cell_type": "code",
      "execution_count": 38,
      "metadata": {
        "id": "dHq01N0oRKwY"
      },
      "outputs": [],
      "source": [
        "import pandas as pd\n",
        "import numpy as np\n",
        "import matplotlib.pyplot as plt\n",
        "import seaborn as sns\n"
      ]
    },
    {
      "cell_type": "code",
      "source": [
        "!git clone https://github.com/sawsanzaky/Portfolio-Risk-Management"
      ],
      "metadata": {
        "colab": {
          "base_uri": "https://localhost:8080/"
        },
        "id": "RlAj_v2qRaBQ",
        "outputId": "46c696bb-78d5-4d8a-b35c-120ed32806fa"
      },
      "execution_count": 52,
      "outputs": [
        {
          "output_type": "stream",
          "name": "stdout",
          "text": [
            "fatal: destination path 'Portfolio-Risk-Management' already exists and is not an empty directory.\n"
          ]
        }
      ]
    },
    {
      "cell_type": "markdown",
      "source": [
        ""
      ],
      "metadata": {
        "id": "Y8h01iJyTZIt"
      }
    },
    {
      "cell_type": "markdown",
      "source": [
        "\n",
        "\n",
        "---\n",
        "\n",
        "\n",
        "\n",
        "---\n",
        "\n"
      ],
      "metadata": {
        "id": "-O0J8QEGehUi"
      }
    },
    {
      "cell_type": "code",
      "source": [
        "StockReturns = pd.read_csv(\"/content/Portfolio-Risk-Management/All retuens (2017).csv\" , index_col=False)\n",
        "print(StockReturns.head(2))\n",
        "StockReturns.shape"
      ],
      "metadata": {
        "colab": {
          "base_uri": "https://localhost:8080/"
        },
        "id": "SwSs4EzceMaE",
        "outputId": "cf3f2882-95a1-4a14-d28a-3017a9ec9684"
      },
      "execution_count": 56,
      "outputs": [
        {
          "output_type": "stream",
          "name": "stdout",
          "text": [
            "         Date      AAPL      MSFT  ...        GE        FB         T\n",
            "0  2017-01-03  0.002849  0.007081  ...  0.002848  0.015732  0.011521\n",
            "1  2017-01-04 -0.001119 -0.004474  ...  0.000316  0.015660 -0.005811\n",
            "\n",
            "[2 rows x 10 columns]\n"
          ]
        },
        {
          "output_type": "execute_result",
          "data": {
            "text/plain": [
              "(251, 10)"
            ]
          },
          "metadata": {},
          "execution_count": 56
        }
      ]
    },
    {
      "cell_type": "markdown",
      "source": [
        "**The correlation matrix**"
      ],
      "metadata": {
        "id": "ZDLYYDevJQcn"
      }
    },
    {
      "cell_type": "code",
      "source": [
        "# Calculate the correlation matrix\n",
        "correlation_matrix = StockReturns.corr()\n",
        "\n",
        "# Print the correlation matrix\n",
        "print(correlation_matrix)"
      ],
      "metadata": {
        "colab": {
          "base_uri": "https://localhost:8080/"
        },
        "id": "C_qD_rvjIZM7",
        "outputId": "932b65d5-833b-48a6-f0cf-4007db29cbc0"
      },
      "execution_count": 57,
      "outputs": [
        {
          "output_type": "stream",
          "name": "stdout",
          "text": [
            "          AAPL      MSFT       XOM  ...        GE        FB         T\n",
            "AAPL  1.000000  0.437430  0.055505  ...  0.006766  0.542367  0.005082\n",
            "MSFT  0.437430  1.000000  0.084108  ... -0.044827  0.543341 -0.021079\n",
            "XOM   0.055505  0.084108  1.000000  ...  0.193861 -0.046813  0.197576\n",
            "JNJ   0.038432  0.230215  0.121012  ...  0.067930  0.079391  0.091622\n",
            "JPM   0.199914  0.191248  0.305926  ...  0.257401  0.095245  0.252832\n",
            "AMZN  0.509472  0.621096  0.015118  ... -0.092188  0.653030 -0.017909\n",
            "GE    0.006766 -0.044827  0.193861  ...  1.000000 -0.024364  0.292706\n",
            "FB    0.542367  0.543341 -0.046813  ... -0.024364  1.000000 -0.024505\n",
            "T     0.005082 -0.021079  0.197576  ...  0.292706 -0.024505  1.000000\n",
            "\n",
            "[9 rows x 9 columns]\n"
          ]
        }
      ]
    },
    {
      "cell_type": "code",
      "source": [
        "\n",
        "# Create a heatmap\n",
        "sns.heatmap(correlation_matrix,\n",
        "            annot=True,\n",
        "            cmap=\"YlGnBu\", \n",
        "            linewidths=0.3,\n",
        "            annot_kws={\"size\": 8})\n",
        "\n",
        "# Plot aesthetics\n",
        "plt.xticks(rotation=90)\n",
        "plt.yticks(rotation=0) \n",
        "plt.show()"
      ],
      "metadata": {
        "colab": {
          "base_uri": "https://localhost:8080/",
          "height": 289
        },
        "id": "8z59bswXJbJD",
        "outputId": "3796e7bc-c1a4-41dd-f5b7-f6af6c5d8631"
      },
      "execution_count": 58,
      "outputs": [
        {
          "output_type": "display_data",
          "data": {
            "image/png": "[encoded data removed]",
            "text/plain": [
              "<Figure size 432x288 with 2 Axes>"
            ]
          },
          "metadata": {
            "needs_background": "light"
          }
        }
      ]
    },
    {
      "cell_type": "markdown",
      "source": [
        "**covariance matrix & co-variance matrix**"
      ],
      "metadata": {
        "id": "ArjUzJaELP9D"
      }
    },
    {
      "cell_type": "code",
      "source": [
        "# Calculate the covariance matrix\n",
        "cov_mat = StockReturns.cov()\n",
        "\n",
        "# Annualize the co-variance matrix\n",
        "cov_mat_annual = cov_mat*252\n",
        "\n",
        "# Print the annualized co-variance matrix\n",
        "print(cov_mat_annual)"
      ],
      "metadata": {
        "colab": {
          "base_uri": "https://localhost:8080/"
        },
        "id": "gsuOb6CULOzW",
        "outputId": "565678d8-fb86-4118-ba6a-fa5da48e294c"
      },
      "execution_count": 62,
      "outputs": [
        {
          "output_type": "stream",
          "name": "stdout",
          "text": [
            "          AAPL      MSFT       XOM  ...        GE        FB         T\n",
            "AAPL  0.030996  0.011400  0.001093  ...  0.000236  0.016243  0.000152\n",
            "MSFT  0.011400  0.021912  0.001392  ... -0.001315  0.013682 -0.000530\n",
            "XOM   0.001093  0.001392  0.012500  ...  0.004295 -0.000890  0.003751\n",
            "JNJ   0.000774  0.003899  0.001548  ...  0.001540  0.001545  0.001780\n",
            "JPM   0.005716  0.004597  0.005554  ...  0.008283  0.002631  0.006972\n",
            "AMZN  0.018805  0.019275  0.000354  ... -0.003830  0.023290 -0.000638\n",
            "GE    0.000236 -0.001315  0.004295  ...  0.039270 -0.000821  0.009849\n",
            "FB    0.016243  0.013682 -0.000890  ... -0.000821  0.028937 -0.000708\n",
            "T     0.000152 -0.000530  0.003751  ...  0.009849 -0.000708  0.028833\n",
            "\n",
            "[9 rows x 9 columns]\n"
          ]
        }
      ]
    },
    {
      "cell_type": "markdown",
      "source": [
        "**Portfolio standard deviation**"
      ],
      "metadata": {
        "id": "r38dwrvjJ0rQ"
      }
    },
    {
      "cell_type": "code",
      "source": [
        "# Calculate the portfolio standard deviation\n",
        "portfolio_volatility = np.sqrt(np.dot(portfolio_weights.T, np.dot(cov_mat_annual, portfolio_weights)))\n",
        "print(portfolio_volatility)"
      ],
      "metadata": {
        "colab": {
          "base_uri": "https://localhost:8080/"
        },
        "id": "e_XDSAmkJnME",
        "outputId": "0f51af83-6d09-49fb-949d-c12627baf513"
      },
      "execution_count": 63,
      "outputs": [
        {
          "output_type": "stream",
          "name": "stdout",
          "text": [
            "0.08931417642713807\n"
          ]
        }
      ]
    },
    {
      "cell_type": "code",
      "source": [
        ""
      ],
      "metadata": {
        "id": "YXcMCcI7J_ka"
      },
      "execution_count": null,
      "outputs": []
    }
  ]
}
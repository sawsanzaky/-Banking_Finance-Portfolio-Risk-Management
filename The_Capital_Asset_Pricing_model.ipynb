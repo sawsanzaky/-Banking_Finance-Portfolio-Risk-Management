{
  "nbformat": 4,
  "nbformat_minor": 0,
  "metadata": {
    "colab": {
      "name": "The Capital Asset Pricing model.ipynb",
      "provenance": [],
      "authorship_tag": "ABX9TyOIHz3D2FkVGO22Y069yfB2",
      "include_colab_link": true
    },
    "kernelspec": {
      "name": "python3",
      "display_name": "Python 3"
    },
    "language_info": {
      "name": "python"
    }
  },
  "cells": [
    {
      "cell_type": "markdown",
      "metadata": {
        "id": "view-in-github",
        "colab_type": "text"
      },
      "source": [
        "<a href=\"https://colab.research.google.com/github/sawsanzaky/Portfolio-Risk-Management/blob/main/The_Capital_Asset_Pricing_model.ipynb\" target=\"_parent\"><img src=\"https://colab.research.google.com/assets/colab-badge.svg\" alt=\"Open In Colab\"/></a>"
      ]
    },
    {
      "cell_type": "code",
      "execution_count": 38,
      "metadata": {
        "id": "dHq01N0oRKwY"
      },
      "outputs": [],
      "source": [
        "import pandas as pd\n",
        "import numpy as np\n",
        "import matplotlib.pyplot as plt\n",
        "import seaborn as sns\n",
        "# Import statsmodels.formula.api\n",
        "import statsmodels.formula.api as smf \n",
        "\n"
      ]
    },
    {
      "cell_type": "code",
      "source": [
        "!git clone https://github.com/sawsanzaky/Portfolio-Risk-Management"
      ],
      "metadata": {
        "colab": {
          "base_uri": "https://localhost:8080/"
        },
        "id": "RlAj_v2qRaBQ",
        "outputId": "46c696bb-78d5-4d8a-b35c-120ed32806fa"
      },
      "execution_count": 52,
      "outputs": [
        {
          "output_type": "stream",
          "name": "stdout",
          "text": [
            "fatal: destination path 'Portfolio-Risk-Management' already exists and is not an empty directory.\n"
          ]
        }
      ]
    },
    {
      "cell_type": "markdown",
      "source": [
        ""
      ],
      "metadata": {
        "id": "Y8h01iJyTZIt"
      }
    },
    {
      "cell_type": "markdown",
      "source": [
        "\n",
        "\n",
        "---\n",
        "\n",
        "\n",
        "\n",
        "---\n",
        "\n"
      ],
      "metadata": {
        "id": "-O0J8QEGehUi"
      }
    },
    {
      "cell_type": "code",
      "source": [
        "FamaFrenchData = pd.read_csv(\"/content/Portfolio-Risk-Management/Fama-French Factors.csv\")\n",
        "print(FamaFrenchData.head(2))\n"
      ],
      "metadata": {
        "colab": {
          "base_uri": "https://localhost:8080/"
        },
        "id": "YXcMCcI7J_ka",
        "outputId": "a51e1b8b-c3bc-4466-f43d-276767136017"
      },
      "execution_count": 64,
      "outputs": [
        {
          "output_type": "stream",
          "name": "stdout",
          "text": [
            "         Date  Portfolio  Market_Excess     SMB     HML     RMW     CMA   RF\n",
            "0  2013-01-03  -0.005066        -0.0014  0.0014  0.0004  0.0020  0.0023  0.0\n",
            "1  2013-01-04   0.004024         0.0055  0.0019  0.0043 -0.0037  0.0027  0.0\n"
          ]
        }
      ]
    },
    {
      "cell_type": "markdown",
      "source": [
        "**Excess returns**"
      ],
      "metadata": {
        "id": "Fjzxd7arPJQy"
      }
    },
    {
      "cell_type": "code",
      "source": [
        "# Calculate excess portfolio returns\n",
        "FamaFrenchData['Portfolio_Excess'] = FamaFrenchData['Portfolio'] - FamaFrenchData['RF']\n",
        "\n",
        "# Plot returns vs excess returns\n",
        "CumulativeReturns = ((1+FamaFrenchData[['Portfolio','Portfolio_Excess']]).cumprod()-1)\n",
        "CumulativeReturns.plot()\n",
        "plt.show()"
      ],
      "metadata": {
        "colab": {
          "base_uri": "https://localhost:8080/",
          "height": 265
        },
        "id": "V2roBRITPDBS",
        "outputId": "d99d0a6a-1de5-4fd8-b548-e1a5f71bbe55"
      },
      "execution_count": 65,
      "outputs": [
        {
          "output_type": "display_data",
          "data": {
            "image/png": "[encoded data removed]",
            "text/plain": [
              "<Figure size 432x288 with 1 Axes>"
            ]
          },
          "metadata": {
            "needs_background": "light"
          }
        }
      ]
    },
    {
      "cell_type": "markdown",
      "source": [
        "**Calculating beta using co-variance**"
      ],
      "metadata": {
        "id": "4c8_Tp_hPUY1"
      }
    },
    {
      "cell_type": "code",
      "source": [
        "# Calculate the co-variance matrix between Portfolio_Excess and Market_Excess\n",
        "covariance_matrix = FamaFrenchData[['Portfolio_Excess', 'Market_Excess']].cov()\n",
        "\n",
        "# Extract the co-variance co-efficient\n",
        "covariance_coefficient = covariance_matrix.iloc[0, 1]\n",
        "print(covariance_coefficient)\n",
        "\n",
        "# Calculate the benchmark variance\n",
        "benchmark_variance = FamaFrenchData['Market_Excess'].var()\n",
        "print(benchmark_variance)\n",
        "\n",
        "# Calculating the portfolio market beta\n",
        "portfolio_beta = covariance_coefficient / benchmark_variance\n",
        "print(portfolio_beta)"
      ],
      "metadata": {
        "colab": {
          "base_uri": "https://localhost:8080/"
        },
        "id": "2Sm7CapXPN-x",
        "outputId": "bd517e60-15dc-4d27-9bd9-0bd6de878cb0"
      },
      "execution_count": 66,
      "outputs": [
        {
          "output_type": "stream",
          "name": "stdout",
          "text": [
            "5.7261263381549724e-05\n",
            "5.8803350882118946e-05\n",
            "0.9737755165745471\n"
          ]
        }
      ]
    },
    {
      "cell_type": "markdown",
      "source": [
        "**Calculating beta with CAPM**"
      ],
      "metadata": {
        "id": "7v5_fXtqPqZb"
      }
    },
    {
      "cell_type": "code",
      "source": [
        "# Define the regression formula\n",
        "CAPM_model = smf.ols(formula='Portfolio_Excess ~ Market_Excess', data=FamaFrenchData)\n",
        "\n",
        "# Fit the regression\n",
        "CAPM_fit = CAPM_model.fit()\n",
        "print(CAPM_fit.rsquared_adj)\n",
        "\n",
        "# Extract the beta\n",
        "regression_beta = CAPM_fit.params['Market_Excess']\n",
        "print(regression_beta)"
      ],
      "metadata": {
        "colab": {
          "base_uri": "https://localhost:8080/"
        },
        "id": "I-wUebPnPgJe",
        "outputId": "902e58f6-3a76-43cf-fcc8-9b09dc8ae4e5"
      },
      "execution_count": 67,
      "outputs": [
        {
          "output_type": "stream",
          "name": "stderr",
          "text": [
            "/usr/local/lib/python3.7/dist-packages/statsmodels/tools/_testing.py:19: FutureWarning: pandas.util.testing is deprecated. Use the functions in the public API at pandas.testing instead.\n",
            "  import pandas.util.testing as tm\n"
          ]
        },
        {
          "output_type": "stream",
          "name": "stdout",
          "text": [
            "0.7942627160017834\n",
            "0.9737755165745479\n"
          ]
        }
      ]
    },
    {
      "cell_type": "code",
      "source": [
        ""
      ],
      "metadata": {
        "id": "Lwo09aJWPxjW"
      },
      "execution_count": null,
      "outputs": []
    }
  ]
}
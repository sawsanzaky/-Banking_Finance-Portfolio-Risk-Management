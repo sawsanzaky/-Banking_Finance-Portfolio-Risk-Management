{
  "nbformat": 4,
  "nbformat_minor": 0,
  "metadata": {
    "colab": {
      "name": "Calculating-stock-Returns.ipynb",
      "provenance": [],
      "authorship_tag": "ABX9TyN7Fnqsme9iO84fW1WdjNH4",
      "include_colab_link": true
    },
    "kernelspec": {
      "name": "python3",
      "display_name": "Python 3"
    },
    "language_info": {
      "name": "python"
    }
  },
  "cells": [
    {
      "cell_type": "markdown",
      "metadata": {
        "id": "view-in-github",
        "colab_type": "text"
      },
      "source": [
        "<a href=\"https://colab.research.google.com/github/sawsanzaky/Portfolio-Risk-Management/blob/main/Calculating_stock_Returns.ipynb\" target=\"_parent\"><img src=\"https://colab.research.google.com/assets/colab-badge.svg\" alt=\"Open In Colab\"/></a>"
      ]
    },
    {
      "cell_type": "code",
      "execution_count": 2,
      "metadata": {
        "id": "dHq01N0oRKwY"
      },
      "outputs": [],
      "source": [
        "import pandas as pd\n",
        "import matplotlib.pyplot as plt\n"
      ]
    },
    {
      "cell_type": "code",
      "source": [
        "!git clone https://github.com/sawsanzaky/Portfolio-Risk-Management"
      ],
      "metadata": {
        "colab": {
          "base_uri": "https://localhost:8080/"
        },
        "id": "RlAj_v2qRaBQ",
        "outputId": "ef88004a-3a98-4fbb-9874-4a7429d76ce7"
      },
      "execution_count": 3,
      "outputs": [
        {
          "output_type": "stream",
          "name": "stdout",
          "text": [
            "Cloning into 'Portfolio-Risk-Management'...\n",
            "remote: Enumerating objects: 18, done.\u001b[K\n",
            "remote: Counting objects: 100% (18/18), done.\u001b[K\n",
            "remote: Compressing objects: 100% (16/16), done.\u001b[K\n",
            "remote: Total 18 (delta 2), reused 0 (delta 0), pack-reused 0\u001b[K\n",
            "Unpacking objects: 100% (18/18), done.\n"
          ]
        }
      ]
    },
    {
      "cell_type": "markdown",
      "source": [
        ""
      ],
      "metadata": {
        "id": "Y8h01iJyTZIt"
      }
    },
    {
      "cell_type": "markdown",
      "source": [
        "\n",
        "\n",
        "---\n",
        "\n",
        "\n",
        "\n",
        "---\n",
        "\n"
      ],
      "metadata": {
        "id": "-O0J8QEGehUi"
      }
    },
    {
      "cell_type": "code",
      "source": [
        "StockPrices = pd.read_csv(\"/content/Portfolio-Risk-Management/Microsoft Prices.csv\")\n",
        "print(StockPrices.head(2))\n",
        "StockPrices.columns"
      ],
      "metadata": {
        "colab": {
          "base_uri": "https://localhost:8080/"
        },
        "id": "SwSs4EzceMaE",
        "outputId": "4cbb53fa-1a41-478b-aea7-953f1c10df10"
      },
      "execution_count": 4,
      "outputs": [
        {
          "output_type": "stream",
          "name": "stdout",
          "text": [
            "         Date    Open    High     Low     Close    Volume   Adjusted\n",
            "0  2000-01-03  88.777  89.722  84.712  58.28125  53228400  38.527809\n",
            "1  2000-01-04  85.893  88.588  84.901  56.31250  54119000  37.226345\n"
          ]
        },
        {
          "output_type": "execute_result",
          "data": {
            "text/plain": [
              "Index(['Date', 'Open', 'High', 'Low', 'Close', 'Volume', 'Adjusted'], dtype='object')"
            ]
          },
          "metadata": {},
          "execution_count": 4
        }
      ]
    },
    {
      "cell_type": "code",
      "source": [
        "StockPrices = StockPrices.sort_values(by='Date')\n",
        "StockPrices"
      ],
      "metadata": {
        "colab": {
          "base_uri": "https://localhost:8080/",
          "height": 424
        },
        "id": "quGVSE39vQCS",
        "outputId": "b4343ba1-f43e-4850-dfbe-24fe0bf3832e"
      },
      "execution_count": 5,
      "outputs": [
        {
          "output_type": "execute_result",
          "data": {
            "text/html": [
              "\n",
              "  <div id=\"df-e041b7b5-8f0a-4ef5-b4d4-494e9d7cbd55\">\n",
              "    <div class=\"colab-df-container\">\n",
              "      <div>\n",
              "<style scoped>\n",
              "    .dataframe tbody tr th:only-of-type {\n",
              "        vertical-align: middle;\n",
              "    }\n",
              "\n",
              "    .dataframe tbody tr th {\n",
              "        vertical-align: top;\n",
              "    }\n",
              "\n",
              "    .dataframe thead th {\n",
              "        text-align: right;\n",
              "    }\n",
              "</style>\n",
              "<table border=\"1\" class=\"dataframe\">\n",
              "  <thead>\n",
              "    <tr style=\"text-align: right;\">\n",
              "      <th></th>\n",
              "      <th>Date</th>\n",
              "      <th>Open</th>\n",
              "      <th>High</th>\n",
              "      <th>Low</th>\n",
              "      <th>Close</th>\n",
              "      <th>Volume</th>\n",
              "      <th>Adjusted</th>\n",
              "    </tr>\n",
              "  </thead>\n",
              "  <tbody>\n",
              "    <tr>\n",
              "      <th>0</th>\n",
              "      <td>2000-01-03</td>\n",
              "      <td>88.777</td>\n",
              "      <td>89.722</td>\n",
              "      <td>84.712</td>\n",
              "      <td>58.281250</td>\n",
              "      <td>53228400</td>\n",
              "      <td>38.527809</td>\n",
              "    </tr>\n",
              "    <tr>\n",
              "      <th>1</th>\n",
              "      <td>2000-01-04</td>\n",
              "      <td>85.893</td>\n",
              "      <td>88.588</td>\n",
              "      <td>84.901</td>\n",
              "      <td>56.312500</td>\n",
              "      <td>54119000</td>\n",
              "      <td>37.226345</td>\n",
              "    </tr>\n",
              "    <tr>\n",
              "      <th>2</th>\n",
              "      <td>2000-01-05</td>\n",
              "      <td>84.050</td>\n",
              "      <td>88.021</td>\n",
              "      <td>82.726</td>\n",
              "      <td>56.906250</td>\n",
              "      <td>64059600</td>\n",
              "      <td>37.618851</td>\n",
              "    </tr>\n",
              "    <tr>\n",
              "      <th>3</th>\n",
              "      <td>2000-01-06</td>\n",
              "      <td>84.853</td>\n",
              "      <td>86.130</td>\n",
              "      <td>81.970</td>\n",
              "      <td>55.000000</td>\n",
              "      <td>54976600</td>\n",
              "      <td>36.358688</td>\n",
              "    </tr>\n",
              "    <tr>\n",
              "      <th>4</th>\n",
              "      <td>2000-01-07</td>\n",
              "      <td>82.159</td>\n",
              "      <td>84.901</td>\n",
              "      <td>81.166</td>\n",
              "      <td>55.718750</td>\n",
              "      <td>62013600</td>\n",
              "      <td>36.833828</td>\n",
              "    </tr>\n",
              "    <tr>\n",
              "      <th>...</th>\n",
              "      <td>...</td>\n",
              "      <td>...</td>\n",
              "      <td>...</td>\n",
              "      <td>...</td>\n",
              "      <td>...</td>\n",
              "      <td>...</td>\n",
              "      <td>...</td>\n",
              "    </tr>\n",
              "    <tr>\n",
              "      <th>4556</th>\n",
              "      <td>2018-02-12</td>\n",
              "      <td>89.157</td>\n",
              "      <td>90.202</td>\n",
              "      <td>88.343</td>\n",
              "      <td>89.129997</td>\n",
              "      <td>35720300</td>\n",
              "      <td>88.713272</td>\n",
              "    </tr>\n",
              "    <tr>\n",
              "      <th>4557</th>\n",
              "      <td>2018-02-13</td>\n",
              "      <td>89.348</td>\n",
              "      <td>90.423</td>\n",
              "      <td>88.212</td>\n",
              "      <td>89.830002</td>\n",
              "      <td>26407700</td>\n",
              "      <td>89.410004</td>\n",
              "    </tr>\n",
              "    <tr>\n",
              "      <th>4558</th>\n",
              "      <td>2018-02-14</td>\n",
              "      <td>88.510</td>\n",
              "      <td>90.990</td>\n",
              "      <td>88.410</td>\n",
              "      <td>90.809998</td>\n",
              "      <td>34960900</td>\n",
              "      <td>90.809998</td>\n",
              "    </tr>\n",
              "    <tr>\n",
              "      <th>4559</th>\n",
              "      <td>2018-02-15</td>\n",
              "      <td>91.210</td>\n",
              "      <td>92.720</td>\n",
              "      <td>90.620</td>\n",
              "      <td>92.660004</td>\n",
              "      <td>27823900</td>\n",
              "      <td>92.660004</td>\n",
              "    </tr>\n",
              "    <tr>\n",
              "      <th>4560</th>\n",
              "      <td>2018-02-16</td>\n",
              "      <td>92.450</td>\n",
              "      <td>93.500</td>\n",
              "      <td>91.800</td>\n",
              "      <td>92.000000</td>\n",
              "      <td>30557400</td>\n",
              "      <td>92.000000</td>\n",
              "    </tr>\n",
              "  </tbody>\n",
              "</table>\n",
              "<p>4561 rows × 7 columns</p>\n",
              "</div>\n",
              "      <button class=\"colab-df-convert\" onclick=\"convertToInteractive('df-e041b7b5-8f0a-4ef5-b4d4-494e9d7cbd55')\"\n",
              "              title=\"Convert this dataframe to an interactive table.\"\n",
              "              style=\"display:none;\">\n",
              "        \n",
              "  <svg xmlns=\"http://www.w3.org/2000/svg\" height=\"24px\"viewBox=\"0 0 24 24\"\n",
              "       width=\"24px\">\n",
              "    <path d=\"M0 0h24v24H0V0z\" fill=\"none\"/>\n",
              "    <path d=\"M18.56 5.44l.94 2.06.94-2.06 2.06-.94-2.06-.94-.94-2.06-.94 2.06-2.06.94zm-11 1L8.5 8.5l.94-2.06 2.06-.94-2.06-.94L8.5 2.5l-.94 2.06-2.06.94zm10 10l.94 2.06.94-2.06 2.06-.94-2.06-.94-.94-2.06-.94 2.06-2.06.94z\"/><path d=\"M17.41 7.96l-1.37-1.37c-.4-.4-.92-.59-1.43-.59-.52 0-1.04.2-1.43.59L10.3 9.45l-7.72 7.72c-.78.78-.78 2.05 0 2.83L4 21.41c.39.39.9.59 1.41.59.51 0 1.02-.2 1.41-.59l7.78-7.78 2.81-2.81c.8-.78.8-2.07 0-2.86zM5.41 20L4 18.59l7.72-7.72 1.47 1.35L5.41 20z\"/>\n",
              "  </svg>\n",
              "      </button>\n",
              "      \n",
              "  <style>\n",
              "    .colab-df-container {\n",
              "      display:flex;\n",
              "      flex-wrap:wrap;\n",
              "      gap: 12px;\n",
              "    }\n",
              "\n",
              "    .colab-df-convert {\n",
              "      background-color: #E8F0FE;\n",
              "      border: none;\n",
              "      border-radius: 50%;\n",
              "      cursor: pointer;\n",
              "      display: none;\n",
              "      fill: #1967D2;\n",
              "      height: 32px;\n",
              "      padding: 0 0 0 0;\n",
              "      width: 32px;\n",
              "    }\n",
              "\n",
              "    .colab-df-convert:hover {\n",
              "      background-color: #E2EBFA;\n",
              "      box-shadow: 0px 1px 2px rgba(60, 64, 67, 0.3), 0px 1px 3px 1px rgba(60, 64, 67, 0.15);\n",
              "      fill: #174EA6;\n",
              "    }\n",
              "\n",
              "    [theme=dark] .colab-df-convert {\n",
              "      background-color: #3B4455;\n",
              "      fill: #D2E3FC;\n",
              "    }\n",
              "\n",
              "    [theme=dark] .colab-df-convert:hover {\n",
              "      background-color: #434B5C;\n",
              "      box-shadow: 0px 1px 3px 1px rgba(0, 0, 0, 0.15);\n",
              "      filter: drop-shadow(0px 1px 2px rgba(0, 0, 0, 0.3));\n",
              "      fill: #FFFFFF;\n",
              "    }\n",
              "  </style>\n",
              "\n",
              "      <script>\n",
              "        const buttonEl =\n",
              "          document.querySelector('#df-e041b7b5-8f0a-4ef5-b4d4-494e9d7cbd55 button.colab-df-convert');\n",
              "        buttonEl.style.display =\n",
              "          google.colab.kernel.accessAllowed ? 'block' : 'none';\n",
              "\n",
              "        async function convertToInteractive(key) {\n",
              "          const element = document.querySelector('#df-e041b7b5-8f0a-4ef5-b4d4-494e9d7cbd55');\n",
              "          const dataTable =\n",
              "            await google.colab.kernel.invokeFunction('convertToInteractive',\n",
              "                                                     [key], {});\n",
              "          if (!dataTable) return;\n",
              "\n",
              "          const docLinkHtml = 'Like what you see? Visit the ' +\n",
              "            '<a target=\"_blank\" href=https://colab.research.google.com/notebooks/data_table.ipynb>data table notebook</a>'\n",
              "            + ' to learn more about interactive tables.';\n",
              "          element.innerHTML = '';\n",
              "          dataTable['output_type'] = 'display_data';\n",
              "          await google.colab.output.renderOutput(dataTable, element);\n",
              "          const docLink = document.createElement('div');\n",
              "          docLink.innerHTML = docLinkHtml;\n",
              "          element.appendChild(docLink);\n",
              "        }\n",
              "      </script>\n",
              "    </div>\n",
              "  </div>\n",
              "  "
            ],
            "text/plain": [
              "            Date    Open    High     Low      Close    Volume   Adjusted\n",
              "0     2000-01-03  88.777  89.722  84.712  58.281250  53228400  38.527809\n",
              "1     2000-01-04  85.893  88.588  84.901  56.312500  54119000  37.226345\n",
              "2     2000-01-05  84.050  88.021  82.726  56.906250  64059600  37.618851\n",
              "3     2000-01-06  84.853  86.130  81.970  55.000000  54976600  36.358688\n",
              "4     2000-01-07  82.159  84.901  81.166  55.718750  62013600  36.833828\n",
              "...          ...     ...     ...     ...        ...       ...        ...\n",
              "4556  2018-02-12  89.157  90.202  88.343  89.129997  35720300  88.713272\n",
              "4557  2018-02-13  89.348  90.423  88.212  89.830002  26407700  89.410004\n",
              "4558  2018-02-14  88.510  90.990  88.410  90.809998  34960900  90.809998\n",
              "4559  2018-02-15  91.210  92.720  90.620  92.660004  27823900  92.660004\n",
              "4560  2018-02-16  92.450  93.500  91.800  92.000000  30557400  92.000000\n",
              "\n",
              "[4561 rows x 7 columns]"
            ]
          },
          "metadata": {},
          "execution_count": 5
        }
      ]
    },
    {
      "cell_type": "markdown",
      "source": [
        "**Calculating financial returns**"
      ],
      "metadata": {
        "id": "CDXxmPEawXDV"
      }
    },
    {
      "cell_type": "code",
      "source": [
        "# Calculate the daily returns of the adjusted close price\n",
        "StockPrices['Returns'] = StockPrices['Adjusted'].pct_change()\n",
        "\n",
        "\n",
        "# Plot the returns column over time\n",
        "StockPrices['Returns'].plot()\n",
        "plt.title(\"...................Returns..................\")\n",
        "\n",
        "plt.show()"
      ],
      "metadata": {
        "colab": {
          "base_uri": "https://localhost:8080/",
          "height": 281
        },
        "id": "qzofjM-qvRAy",
        "outputId": "c4803d32-fd7d-4a8b-bbea-bebff2f707b5"
      },
      "execution_count": 7,
      "outputs": [
        {
          "output_type": "display_data",
          "data": {
            "image/png": "[encoded data removed]",
            "text/plain": [
              "<Figure size 432x288 with 1 Axes>"
            ]
          },
          "metadata": {
            "needs_background": "light"
          }
        }
      ]
    },
    {
      "cell_type": "code",
      "source": [
        "# Convert the decimal returns into percentage returns\n",
        "percent_return = StockPrices['Returns']*100\n",
        "\n",
        "# Drop the missing values\n",
        "returns_plot = percent_return.dropna()\n",
        "\n",
        "# Plot the returns histogram\n",
        "plt.hist(returns_plot, bins=75,)\n",
        "plt.title(\"...................Probability..................\")\n",
        "plt.show()"
      ],
      "metadata": {
        "id": "0tKdJ5PKwcjw",
        "colab": {
          "base_uri": "https://localhost:8080/",
          "height": 281
        },
        "outputId": "a7484717-abda-41dc-f090-85ca18666a4b"
      },
      "execution_count": 8,
      "outputs": [
        {
          "output_type": "display_data",
          "data": {
            "image/png": "[encoded data removed]",
            "text/plain": [
              "<Figure size 432x288 with 1 Axes>"
            ]
          },
          "metadata": {
            "needs_background": "light"
          }
        }
      ]
    },
    {
      "cell_type": "code",
      "source": [
        ""
      ],
      "metadata": {
        "id": "fAOyx2YLM7S4"
      },
      "execution_count": null,
      "outputs": []
    }
  ]
}
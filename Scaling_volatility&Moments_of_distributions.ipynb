{
  "nbformat": 4,
  "nbformat_minor": 0,
  "metadata": {
    "colab": {
      "name": "Scaling_volatility&Moments of distributions.ipynb",
      "provenance": [],
      "authorship_tag": "ABX9TyNmuufYDJepQy69jilYEgjA",
      "include_colab_link": true
    },
    "kernelspec": {
      "name": "python3",
      "display_name": "Python 3"
    },
    "language_info": {
      "name": "python"
    }
  },
  "cells": [
    {
      "cell_type": "markdown",
      "metadata": {
        "id": "view-in-github",
        "colab_type": "text"
      },
      "source": [
        "<a href=\"https://colab.research.google.com/github/sawsanzaky/Portfolio-Risk-Management/blob/main/Scaling_volatility%26Moments_of_distributions.ipynb\" target=\"_parent\"><img src=\"https://colab.research.google.com/assets/colab-badge.svg\" alt=\"Open In Colab\"/></a>"
      ]
    },
    {
      "cell_type": "code",
      "execution_count": 2,
      "metadata": {
        "id": "dHq01N0oRKwY"
      },
      "outputs": [],
      "source": [
        "import pandas as pd\n",
        "import matplotlib.pyplot as plt\n"
      ]
    },
    {
      "cell_type": "code",
      "source": [
        "!git clone https://github.com/sawsanzaky/Portfolio-Risk-Management"
      ],
      "metadata": {
        "colab": {
          "base_uri": "https://localhost:8080/"
        },
        "id": "RlAj_v2qRaBQ",
        "outputId": "ef88004a-3a98-4fbb-9874-4a7429d76ce7"
      },
      "execution_count": 3,
      "outputs": [
        {
          "output_type": "stream",
          "name": "stdout",
          "text": [
            "Cloning into 'Portfolio-Risk-Management'...\n",
            "remote: Enumerating objects: 18, done.\u001b[K\n",
            "remote: Counting objects: 100% (18/18), done.\u001b[K\n",
            "remote: Compressing objects: 100% (16/16), done.\u001b[K\n",
            "remote: Total 18 (delta 2), reused 0 (delta 0), pack-reused 0\u001b[K\n",
            "Unpacking objects: 100% (18/18), done.\n"
          ]
        }
      ]
    },
    {
      "cell_type": "markdown",
      "source": [
        ""
      ],
      "metadata": {
        "id": "Y8h01iJyTZIt"
      }
    },
    {
      "cell_type": "markdown",
      "source": [
        "\n",
        "\n",
        "---\n",
        "\n",
        "\n",
        "\n",
        "---\n",
        "\n"
      ],
      "metadata": {
        "id": "-O0J8QEGehUi"
      }
    },
    {
      "cell_type": "code",
      "source": [
        "StockPrices = pd.read_csv(\"/content/Portfolio-Risk-Management/Microsoft Prices.csv\")\n",
        "print(StockPrices.head(2))\n",
        "StockPrices.columns"
      ],
      "metadata": {
        "colab": {
          "base_uri": "https://localhost:8080/"
        },
        "id": "SwSs4EzceMaE",
        "outputId": "4cbb53fa-1a41-478b-aea7-953f1c10df10"
      },
      "execution_count": 4,
      "outputs": [
        {
          "output_type": "stream",
          "name": "stdout",
          "text": [
            "         Date    Open    High     Low     Close    Volume   Adjusted\n",
            "0  2000-01-03  88.777  89.722  84.712  58.28125  53228400  38.527809\n",
            "1  2000-01-04  85.893  88.588  84.901  56.31250  54119000  37.226345\n"
          ]
        },
        {
          "output_type": "execute_result",
          "data": {
            "text/plain": [
              "Index(['Date', 'Open', 'High', 'Low', 'Close', 'Volume', 'Adjusted'], dtype='object')"
            ]
          },
          "metadata": {},
          "execution_count": 4
        }
      ]
    },
    {
      "cell_type": "code",
      "source": [
        "StockPrices = StockPrices.sort_values(by='Date')\n",
        "StockPrices"
      ],
      "metadata": {
        "colab": {
          "base_uri": "https://localhost:8080/",
          "height": 424
        },
        "id": "quGVSE39vQCS",
        "outputId": "b4343ba1-f43e-4850-dfbe-24fe0bf3832e"
      },
      "execution_count": 5,
      "outputs": [
        {
          "output_type": "execute_result",
          "data": {
            "text/html": [
              "\n",
              "  <div id=\"df-e041b7b5-8f0a-4ef5-b4d4-494e9d7cbd55\">\n",
              "    <div class=\"colab-df-container\">\n",
              "      <div>\n",
              "<style scoped>\n",
              "    .dataframe tbody tr th:only-of-type {\n",
              "        vertical-align: middle;\n",
              "    }\n",
              "\n",
              "    .dataframe tbody tr th {\n",
              "        vertical-align: top;\n",
              "    }\n",
              "\n",
              "    .dataframe thead th {\n",
              "        text-align: right;\n",
              "    }\n",
              "</style>\n",
              "<table border=\"1\" class=\"dataframe\">\n",
              "  <thead>\n",
              "    <tr style=\"text-align: right;\">\n",
              "      <th></th>\n",
              "      <th>Date</th>\n",
              "      <th>Open</th>\n",
              "      <th>High</th>\n",
              "      <th>Low</th>\n",
              "      <th>Close</th>\n",
              "      <th>Volume</th>\n",
              "      <th>Adjusted</th>\n",
              "    </tr>\n",
              "  </thead>\n",
              "  <tbody>\n",
              "    <tr>\n",
              "      <th>0</th>\n",
              "      <td>2000-01-03</td>\n",
              "      <td>88.777</td>\n",
              "      <td>89.722</td>\n",
              "      <td>84.712</td>\n",
              "      <td>58.281250</td>\n",
              "      <td>53228400</td>\n",
              "      <td>38.527809</td>\n",
              "    </tr>\n",
              "    <tr>\n",
              "      <th>1</th>\n",
              "      <td>2000-01-04</td>\n",
              "      <td>85.893</td>\n",
              "      <td>88.588</td>\n",
              "      <td>84.901</td>\n",
              "      <td>56.312500</td>\n",
              "      <td>54119000</td>\n",
              "      <td>37.226345</td>\n",
              "    </tr>\n",
              "    <tr>\n",
              "      <th>2</th>\n",
              "      <td>2000-01-05</td>\n",
              "      <td>84.050</td>\n",
              "      <td>88.021</td>\n",
              "      <td>82.726</td>\n",
              "      <td>56.906250</td>\n",
              "      <td>64059600</td>\n",
              "      <td>37.618851</td>\n",
              "    </tr>\n",
              "    <tr>\n",
              "      <th>3</th>\n",
              "      <td>2000-01-06</td>\n",
              "      <td>84.853</td>\n",
              "      <td>86.130</td>\n",
              "      <td>81.970</td>\n",
              "      <td>55.000000</td>\n",
              "      <td>54976600</td>\n",
              "      <td>36.358688</td>\n",
              "    </tr>\n",
              "    <tr>\n",
              "      <th>4</th>\n",
              "      <td>2000-01-07</td>\n",
              "      <td>82.159</td>\n",
              "      <td>84.901</td>\n",
              "      <td>81.166</td>\n",
              "      <td>55.718750</td>\n",
              "      <td>62013600</td>\n",
              "      <td>36.833828</td>\n",
              "    </tr>\n",
              "    <tr>\n",
              "      <th>...</th>\n",
              "      <td>...</td>\n",
              "      <td>...</td>\n",
              "      <td>...</td>\n",
              "      <td>...</td>\n",
              "      <td>...</td>\n",
              "      <td>...</td>\n",
              "      <td>...</td>\n",
              "    </tr>\n",
              "    <tr>\n",
              "      <th>4556</th>\n",
              "      <td>2018-02-12</td>\n",
              "      <td>89.157</td>\n",
              "      <td>90.202</td>\n",
              "      <td>88.343</td>\n",
              "      <td>89.129997</td>\n",
              "      <td>35720300</td>\n",
              "      <td>88.713272</td>\n",
              "    </tr>\n",
              "    <tr>\n",
              "      <th>4557</th>\n",
              "      <td>2018-02-13</td>\n",
              "      <td>89.348</td>\n",
              "      <td>90.423</td>\n",
              "      <td>88.212</td>\n",
              "      <td>89.830002</td>\n",
              "      <td>26407700</td>\n",
              "      <td>89.410004</td>\n",
              "    </tr>\n",
              "    <tr>\n",
              "      <th>4558</th>\n",
              "      <td>2018-02-14</td>\n",
              "      <td>88.510</td>\n",
              "      <td>90.990</td>\n",
              "      <td>88.410</td>\n",
              "      <td>90.809998</td>\n",
              "      <td>34960900</td>\n",
              "      <td>90.809998</td>\n",
              "    </tr>\n",
              "    <tr>\n",
              "      <th>4559</th>\n",
              "      <td>2018-02-15</td>\n",
              "      <td>91.210</td>\n",
              "      <td>92.720</td>\n",
              "      <td>90.620</td>\n",
              "      <td>92.660004</td>\n",
              "      <td>27823900</td>\n",
              "      <td>92.660004</td>\n",
              "    </tr>\n",
              "    <tr>\n",
              "      <th>4560</th>\n",
              "      <td>2018-02-16</td>\n",
              "      <td>92.450</td>\n",
              "      <td>93.500</td>\n",
              "      <td>91.800</td>\n",
              "      <td>92.000000</td>\n",
              "      <td>30557400</td>\n",
              "      <td>92.000000</td>\n",
              "    </tr>\n",
              "  </tbody>\n",
              "</table>\n",
              "<p>4561 rows × 7 columns</p>\n",
              "</div>\n",
              "      <button class=\"colab-df-convert\" onclick=\"convertToInteractive('df-e041b7b5-8f0a-4ef5-b4d4-494e9d7cbd55')\"\n",
              "              title=\"Convert this dataframe to an interactive table.\"\n",
              "              style=\"display:none;\">\n",
              "        \n",
              "  <svg xmlns=\"http://www.w3.org/2000/svg\" height=\"24px\"viewBox=\"0 0 24 24\"\n",
              "       width=\"24px\">\n",
              "    <path d=\"M0 0h24v24H0V0z\" fill=\"none\"/>\n",
              "    <path d=\"M18.56 5.44l.94 2.06.94-2.06 2.06-.94-2.06-.94-.94-2.06-.94 2.06-2.06.94zm-11 1L8.5 8.5l.94-2.06 2.06-.94-2.06-.94L8.5 2.5l-.94 2.06-2.06.94zm10 10l.94 2.06.94-2.06 2.06-.94-2.06-.94-.94-2.06-.94 2.06-2.06.94z\"/><path d=\"M17.41 7.96l-1.37-1.37c-.4-.4-.92-.59-1.43-.59-.52 0-1.04.2-1.43.59L10.3 9.45l-7.72 7.72c-.78.78-.78 2.05 0 2.83L4 21.41c.39.39.9.59 1.41.59.51 0 1.02-.2 1.41-.59l7.78-7.78 2.81-2.81c.8-.78.8-2.07 0-2.86zM5.41 20L4 18.59l7.72-7.72 1.47 1.35L5.41 20z\"/>\n",
              "  </svg>\n",
              "      </button>\n",
              "      \n",
              "  <style>\n",
              "    .colab-df-container {\n",
              "      display:flex;\n",
              "      flex-wrap:wrap;\n",
              "      gap: 12px;\n",
              "    }\n",
              "\n",
              "    .colab-df-convert {\n",
              "      background-color: #E8F0FE;\n",
              "      border: none;\n",
              "      border-radius: 50%;\n",
              "      cursor: pointer;\n",
              "      display: none;\n",
              "      fill: #1967D2;\n",
              "      height: 32px;\n",
              "      padding: 0 0 0 0;\n",
              "      width: 32px;\n",
              "    }\n",
              "\n",
              "    .colab-df-convert:hover {\n",
              "      background-color: #E2EBFA;\n",
              "      box-shadow: 0px 1px 2px rgba(60, 64, 67, 0.3), 0px 1px 3px 1px rgba(60, 64, 67, 0.15);\n",
              "      fill: #174EA6;\n",
              "    }\n",
              "\n",
              "    [theme=dark] .colab-df-convert {\n",
              "      background-color: #3B4455;\n",
              "      fill: #D2E3FC;\n",
              "    }\n",
              "\n",
              "    [theme=dark] .colab-df-convert:hover {\n",
              "      background-color: #434B5C;\n",
              "      box-shadow: 0px 1px 3px 1px rgba(0, 0, 0, 0.15);\n",
              "      filter: drop-shadow(0px 1px 2px rgba(0, 0, 0, 0.3));\n",
              "      fill: #FFFFFF;\n",
              "    }\n",
              "  </style>\n",
              "\n",
              "      <script>\n",
              "        const buttonEl =\n",
              "          document.querySelector('#df-e041b7b5-8f0a-4ef5-b4d4-494e9d7cbd55 button.colab-df-convert');\n",
              "        buttonEl.style.display =\n",
              "          google.colab.kernel.accessAllowed ? 'block' : 'none';\n",
              "\n",
              "        async function convertToInteractive(key) {\n",
              "          const element = document.querySelector('#df-e041b7b5-8f0a-4ef5-b4d4-494e9d7cbd55');\n",
              "          const dataTable =\n",
              "            await google.colab.kernel.invokeFunction('convertToInteractive',\n",
              "                                                     [key], {});\n",
              "          if (!dataTable) return;\n",
              "\n",
              "          const docLinkHtml = 'Like what you see? Visit the ' +\n",
              "            '<a target=\"_blank\" href=https://colab.research.google.com/notebooks/data_table.ipynb>data table notebook</a>'\n",
              "            + ' to learn more about interactive tables.';\n",
              "          element.innerHTML = '';\n",
              "          dataTable['output_type'] = 'display_data';\n",
              "          await google.colab.output.renderOutput(dataTable, element);\n",
              "          const docLink = document.createElement('div');\n",
              "          docLink.innerHTML = docLinkHtml;\n",
              "          element.appendChild(docLink);\n",
              "        }\n",
              "      </script>\n",
              "    </div>\n",
              "  </div>\n",
              "  "
            ],
            "text/plain": [
              "            Date    Open    High     Low      Close    Volume   Adjusted\n",
              "0     2000-01-03  88.777  89.722  84.712  58.281250  53228400  38.527809\n",
              "1     2000-01-04  85.893  88.588  84.901  56.312500  54119000  37.226345\n",
              "2     2000-01-05  84.050  88.021  82.726  56.906250  64059600  37.618851\n",
              "3     2000-01-06  84.853  86.130  81.970  55.000000  54976600  36.358688\n",
              "4     2000-01-07  82.159  84.901  81.166  55.718750  62013600  36.833828\n",
              "...          ...     ...     ...     ...        ...       ...        ...\n",
              "4556  2018-02-12  89.157  90.202  88.343  89.129997  35720300  88.713272\n",
              "4557  2018-02-13  89.348  90.423  88.212  89.830002  26407700  89.410004\n",
              "4558  2018-02-14  88.510  90.990  88.410  90.809998  34960900  90.809998\n",
              "4559  2018-02-15  91.210  92.720  90.620  92.660004  27823900  92.660004\n",
              "4560  2018-02-16  92.450  93.500  91.800  92.000000  30557400  92.000000\n",
              "\n",
              "[4561 rows x 7 columns]"
            ]
          },
          "metadata": {},
          "execution_count": 5
        }
      ]
    },
    {
      "cell_type": "code",
      "source": [
        ""
      ],
      "metadata": {
        "id": "fAOyx2YLM7S4"
      },
      "execution_count": null,
      "outputs": []
    },
    {
      "cell_type": "markdown",
      "source": [
        "**Moments of distributions**"
      ],
      "metadata": {
        "id": "KoDmjLQ_z-VZ"
      }
    },
    {
      "cell_type": "markdown",
      "source": [
        "Probability distributions have the following moments:\n",
        "1.   Mean(μ)\n",
        "2.   Variance(σ)\n",
        "3.   Skewness\n",
        "4.   Kurtosis2\n",
        "\n",
        "\n",
        "\n",
        "\n"
      ],
      "metadata": {
        "id": "yAB9BuU50NRA"
      }
    },
    {
      "cell_type": "code",
      "source": [
        "# Import numpy as np\n",
        "import numpy as np\n",
        "\n",
        "# Calculate the average daily return of the stock\n",
        "mean_return_daily = np.mean(StockPrices['Returns'])\n",
        "print(\"................Mean(μ).....................\")\n",
        "print('mean of return - daily : ' , mean_return_daily)\n",
        "\n",
        "# Calculate the implied annualized average return\n",
        "mean_return_annualized = ((1+mean_return_daily)**252)-1\n",
        "print('mean of return - annualized:',mean_return_annualized)"
      ],
      "metadata": {
        "colab": {
          "base_uri": "https://localhost:8080/"
        },
        "id": "ZNkgQtJY0Aa3",
        "outputId": "55d480f6-472b-49c4-a89c-51ced8d82f32"
      },
      "execution_count": 11,
      "outputs": [
        {
          "output_type": "stream",
          "name": "stdout",
          "text": [
            "................Mean(μ).....................\n",
            "mean of return - daily :  0.00037777546435757725\n",
            "mean of return - annualized: 0.09985839482858783\n"
          ]
        }
      ]
    },
    {
      "cell_type": "code",
      "source": [
        "# Calculate the standard deviation of daily return of the stock\n",
        "sigma_daily = np.std(StockPrices['Returns'])\n",
        "print(\"................Variance(σ).....................\")\n",
        "print(\"(σ)2 : \",sigma_daily)\n",
        "\n",
        "# Calculate the daily variance\n",
        "variance_daily = sigma_daily**2\n",
        "print(\"Variance(σ) ; \" ,variance_daily)\n",
        "# Annualize the standard deviation\n",
        "sigma_annualized = sigma_daily*np.sqrt(252)\n",
        "print(sigma_annualized)\n",
        "\n",
        "# Calculate the annualized variance\n",
        "variance_annualized = sigma_annualized**2\n",
        "print(variance_annualized)"
      ],
      "metadata": {
        "colab": {
          "base_uri": "https://localhost:8080/"
        },
        "id": "bX4aqhfF0Dk4",
        "outputId": "5022ff63-b481-43e5-b101-3614dc026d0a"
      },
      "execution_count": 14,
      "outputs": [
        {
          "output_type": "stream",
          "name": "stdout",
          "text": [
            "................Variance(σ).....................\n",
            "(σ)2 :  0.019341100408708328\n",
            "Variance(σ) ;  0.0003740781650197374\n",
            "0.3070304505826317\n",
            "0.09426769758497383\n"
          ]
        }
      ]
    },
    {
      "cell_type": "code",
      "source": [
        "print(\"...............Skewness....................\")\n",
        "# Import skew from scipy.stats\n",
        "from scipy.stats import skew\n",
        "\n",
        "# Drop the missing values\n",
        "clean_returns = StockPrices['Returns'].dropna()\n",
        "\n",
        "# Calculate the third moment (skewness) of the returns distribution\n",
        "returns_skewness = skew(clean_returns)\n",
        "print(returns_skewness)"
      ],
      "metadata": {
        "colab": {
          "base_uri": "https://localhost:8080/"
        },
        "id": "dOf_R43b16BE",
        "outputId": "8694dbcd-c7e9-400d-8dbe-591758d02f0e"
      },
      "execution_count": 17,
      "outputs": [
        {
          "output_type": "stream",
          "name": "stdout",
          "text": [
            "...............Skewness....................\n",
            "0.21935459193067852\n"
          ]
        }
      ]
    },
    {
      "cell_type": "code",
      "source": [
        "# Import kurtosis from scipy.stats\n",
        "from scipy.stats import kurtosis\n",
        "\n",
        "print(\"...............kurtosis..............\")\n",
        "# Calculate the excess kurtosis of the returns distribution\n",
        "excess_kurtosis = kurtosis(clean_returns)\n",
        "print(excess_kurtosis)\n",
        "\n",
        "# Derive the true fourth moment of the returns distribution\n",
        "fourth_moment = excess_kurtosis + 3\n",
        "print(fourth_moment)"
      ],
      "metadata": {
        "colab": {
          "base_uri": "https://localhost:8080/"
        },
        "id": "XvS5RL8x2hTM",
        "outputId": "7099f8c9-dd15-40bd-ce2b-9d2ed0321884"
      },
      "execution_count": 18,
      "outputs": [
        {
          "output_type": "stream",
          "name": "stdout",
          "text": [
            "...............kurtosis..............\n",
            "10.31457261802553\n",
            "13.31457261802553\n"
          ]
        }
      ]
    },
    {
      "cell_type": "markdown",
      "source": [
        "**Statistical tests for normality**"
      ],
      "metadata": {
        "id": "KNDw7MQb3ECt"
      }
    },
    {
      "cell_type": "code",
      "source": [
        "# Import shapiro from scipy.stats\n",
        "from scipy.stats import shapiro\n",
        "\n",
        "# Run the Shapiro-Wilk test on the stock returns\n",
        "shapiro_results = shapiro(clean_returns)\n",
        "print(\"Shapiro results:\", shapiro_results)\n",
        "\n",
        "# Extract the p-value from the shapiro_results\n",
        "p_value = shapiro_results[1]\n",
        "print(\"P-value: \", p_value)"
      ],
      "metadata": {
        "colab": {
          "base_uri": "https://localhost:8080/"
        },
        "id": "o_o7eH_92342",
        "outputId": "b16c9213-b3cc-4051-bf1f-7856ba988c2c"
      },
      "execution_count": 19,
      "outputs": [
        {
          "output_type": "stream",
          "name": "stdout",
          "text": [
            "Shapiro results: (0.9003633260726929, 0.0)\n",
            "P-value:  0.0\n"
          ]
        }
      ]
    },
    {
      "cell_type": "code",
      "source": [
        ""
      ],
      "metadata": {
        "id": "0QzGNwbG3Fom"
      },
      "execution_count": null,
      "outputs": []
    }
  ]
}
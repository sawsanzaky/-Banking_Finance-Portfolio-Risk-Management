{
  "nbformat": 4,
  "nbformat_minor": 0,
  "metadata": {
    "colab": {
      "name": "Factor Investing_The Fama French 3- factor model.ipynb",
      "provenance": [],
      "authorship_tag": "ABX9TyNHs1S+JKIj9XDAk24wk/28",
      "include_colab_link": true
    },
    "kernelspec": {
      "name": "python3",
      "display_name": "Python 3"
    },
    "language_info": {
      "name": "python"
    }
  },
  "cells": [
    {
      "cell_type": "markdown",
      "metadata": {
        "id": "view-in-github",
        "colab_type": "text"
      },
      "source": [
        "<a href=\"https://colab.research.google.com/github/sawsanzaky/Portfolio-Risk-Management/blob/main/Factor_Investing_The_Fama_French_3_factor_model.ipynb\" target=\"_parent\"><img src=\"https://colab.research.google.com/assets/colab-badge.svg\" alt=\"Open In Colab\"/></a>"
      ]
    },
    {
      "cell_type": "code",
      "execution_count": 38,
      "metadata": {
        "id": "dHq01N0oRKwY"
      },
      "outputs": [],
      "source": [
        "import pandas as pd\n",
        "import numpy as np\n",
        "import matplotlib.pyplot as plt\n",
        "import seaborn as sns\n",
        "# Import statsmodels.formula.api\n",
        "import statsmodels.formula.api as smf \n",
        "\n"
      ]
    },
    {
      "cell_type": "code",
      "source": [
        "!git clone https://github.com/sawsanzaky/Portfolio-Risk-Management"
      ],
      "metadata": {
        "colab": {
          "base_uri": "https://localhost:8080/"
        },
        "id": "RlAj_v2qRaBQ",
        "outputId": "46c696bb-78d5-4d8a-b35c-120ed32806fa"
      },
      "execution_count": 52,
      "outputs": [
        {
          "output_type": "stream",
          "name": "stdout",
          "text": [
            "fatal: destination path 'Portfolio-Risk-Management' already exists and is not an empty directory.\n"
          ]
        }
      ]
    },
    {
      "cell_type": "markdown",
      "source": [
        ""
      ],
      "metadata": {
        "id": "Y8h01iJyTZIt"
      }
    },
    {
      "cell_type": "markdown",
      "source": [
        "\n",
        "\n",
        "---\n",
        "\n",
        "\n",
        "\n",
        "---\n",
        "\n"
      ],
      "metadata": {
        "id": "-O0J8QEGehUi"
      }
    },
    {
      "cell_type": "code",
      "source": [
        "FamaFrenchData = pd.read_csv(\"/content/Portfolio-Risk-Management/Fama-French Factors.csv\")\n",
        "print(FamaFrenchData.head(2))\n"
      ],
      "metadata": {
        "colab": {
          "base_uri": "https://localhost:8080/"
        },
        "id": "YXcMCcI7J_ka",
        "outputId": "a51e1b8b-c3bc-4466-f43d-276767136017"
      },
      "execution_count": 64,
      "outputs": [
        {
          "output_type": "stream",
          "name": "stdout",
          "text": [
            "         Date  Portfolio  Market_Excess     SMB     HML     RMW     CMA   RF\n",
            "0  2013-01-03  -0.005066        -0.0014  0.0014  0.0004  0.0020  0.0023  0.0\n",
            "1  2013-01-04   0.004024         0.0055  0.0019  0.0043 -0.0037  0.0027  0.0\n"
          ]
        }
      ]
    },
    {
      "cell_type": "markdown",
      "source": [
        "**The Fama French 3-factor model**"
      ],
      "metadata": {
        "id": "ZOOU0b2IQoul"
      }
    },
    {
      "cell_type": "code",
      "source": [
        "# Define the regression formula\n",
        "FamaFrench_model = smf.ols(formula='Portfolio_Excess ~ Market_Excess + SMB + HML', data=FamaFrenchData)\n",
        "\n",
        "# Fit the regression\n",
        "FamaFrench_fit = FamaFrench_model.fit()\n",
        "\n",
        "# Extract the adjusted r-squared\n",
        "regression_adj_rsq = FamaFrench_fit.rsquared_adj\n",
        "print(regression_adj_rsq)\n"
      ],
      "metadata": {
        "colab": {
          "base_uri": "https://localhost:8080/"
        },
        "id": "Lwo09aJWPxjW",
        "outputId": "21c1f772-62bc-4311-9787-829d0b99340c"
      },
      "execution_count": 69,
      "outputs": [
        {
          "output_type": "stream",
          "name": "stdout",
          "text": [
            "0.8193910088585149\n"
          ]
        }
      ]
    },
    {
      "cell_type": "markdown",
      "source": [
        "**p-values and coefficients**"
      ],
      "metadata": {
        "id": "NtVDBeCUQ9fO"
      }
    },
    {
      "cell_type": "code",
      "source": [
        "# Extract the p-value of the SMB factor\n",
        "smb_pval = FamaFrench_fit.pvalues['SMB']\n",
        "\n",
        "# If the p-value is significant, print significant\n",
        "if smb_pval < 0.05:\n",
        "    significant_msg = 'significant'\n",
        "else:\n",
        "    significant_msg = 'not significant'\n",
        "\n",
        "# Print the SMB coefficient\n",
        "smb_coeff = FamaFrench_fit.params['SMB']\n",
        "print(\"The SMB coefficient is \", smb_coeff, \" and is \", significant_msg)"
      ],
      "metadata": {
        "colab": {
          "base_uri": "https://localhost:8080/"
        },
        "id": "14Yo5IcoQxYI",
        "outputId": "2a2737d6-506a-4822-b999-4212dd519c0d"
      },
      "execution_count": 70,
      "outputs": [
        {
          "output_type": "stream",
          "name": "stdout",
          "text": [
            "The SMB coefficient is  -0.26215152743192677  and is  significant\n"
          ]
        }
      ]
    },
    {
      "cell_type": "markdown",
      "source": [
        "**The efficient market and alpha**"
      ],
      "metadata": {
        "id": "9Jk0GF6wRRdh"
      }
    },
    {
      "cell_type": "code",
      "source": [
        "# Extract your portfolio alpha\n",
        "portfolio_alpha = FamaFrench_fit.params['Intercept']\n",
        "print(portfolio_alpha)\n",
        "\n",
        "# Annualize your portfolio alpha\n",
        "portfolio_alpha_annualized = ((1+portfolio_alpha)**252)-1\n",
        "print(portfolio_alpha_annualized)"
      ],
      "metadata": {
        "colab": {
          "base_uri": "https://localhost:8080/"
        },
        "id": "L_2EztMlREBt",
        "outputId": "53775b9c-dc6e-4a0a-f1e1-1c5702b58005"
      },
      "execution_count": 71,
      "outputs": [
        {
          "output_type": "stream",
          "name": "stdout",
          "text": [
            "0.0001832666520318351\n",
            "0.04726181730280854\n"
          ]
        }
      ]
    },
    {
      "cell_type": "markdown",
      "source": [
        "**Expanding the 3-factor model**"
      ],
      "metadata": {
        "id": "hYYMdSzaRkv8"
      }
    },
    {
      "cell_type": "code",
      "source": [
        "# Define the regression formula\n",
        "FamaFrench5_model = smf.ols(formula='Portfolio_Excess ~ Market_Excess + SMB + HML + RMW + CMA', data=FamaFrenchData)\n",
        "\n",
        "# Fit the regression\n",
        "FamaFrench5_fit = FamaFrench5_model.fit()\n",
        "\n",
        "# Extract the adjusted r-squared\n",
        "regression_adj_rsq = FamaFrench5_fit.rsquared_adj\n",
        "print(regression_adj_rsq)"
      ],
      "metadata": {
        "colab": {
          "base_uri": "https://localhost:8080/"
        },
        "id": "iZa0s5UNRXXz",
        "outputId": "f21c6fd1-1000-40c1-a362-f7af8822aa3b"
      },
      "execution_count": 72,
      "outputs": [
        {
          "output_type": "stream",
          "name": "stdout",
          "text": [
            "0.8367245019225789\n"
          ]
        }
      ]
    },
    {
      "cell_type": "code",
      "source": [
        ""
      ],
      "metadata": {
        "id": "DNiXXnjFRta1"
      },
      "execution_count": null,
      "outputs": []
    }
  ]
}